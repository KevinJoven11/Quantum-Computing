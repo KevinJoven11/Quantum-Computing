{
 "cells": [
  {
   "attachments": {},
   "cell_type": "markdown",
   "metadata": {},
   "source": [
    "# Information about the repository QOSQ Previous Challenges.\n"
   ]
  },
  {
   "attachments": {},
   "cell_type": "markdown",
   "metadata": {},
   "source": [
    "# Parameter Shift Rule Derivation using Qiskit and validate with Pennylane \n",
    "\n",
    "## Find the lowest eigenvalue of the followinf matrix:\n",
    "\n",
    "I will use Qiskit for the implementation.\n",
    "At the beggining I just need to calculate the gradient descent in the circuit and compare them with the pennylane library.\n",
    "\n",
    "## Background:\n",
    "\n",
    "First we need to understand the problem in order to tackle it in teh best way. I will begin showing what it is a VQE (Variational Quantum Eigensolver). How we can implement parameter quantum circuits and expectations values. At the end, how can we optimze the parameters in order to find the value or the expected behaviour.  \n",
    "\n",
    "Variational Theorem:  \n",
    "If you are familiar with hamiltonians and expectations values. You will find that the eigenvalue attach many interest in many research areas, in particular we are interested into the lowest value in the hamiltonian. The variational theorem states that:  \n",
    "\n",
    "$$  \\langle \\psi | \\hat{H} | \\psi \\rangle  = \\lambda_1 \\ge \\lambda_0 $$\n",
    "\n",
    "This equation tell us that any evaluation (expectation value) of a random state $\\psi$ in our hamiltonian will be greater or equal to the lowest eigenvalue possible of my hamiltonian. Lets assume that we parametrized the state $ \\psi $, now the equation has the following form:\n",
    "\n",
    "$$  \\langle \\psi(\\theta) | \\hat{H} | \\psi(\\theta) \\rangle  = \\lambda_1 \\ge \\lambda_0 $$\n",
    "\n",
    "In principle, the problem is still the same as before, but now we can modify the parameter $\\theta$ in order to find the eigenvalue. Now, we need to introduce the concept of parametrized quantum circuit. As you know (or maybe not) the quantum circuits can be parametrized in order to modify some gates. The perfect gates to do this are the $RX$, $RY$, $RZ$ and, the control version of this three gates which are $CRX$, $CRY$, $CRZ$ or any linear combination of theses. This will help us to created our $\\theta$ state.  \n",
    "\n",
    "The second step is to evaluate the quantum state with our hamiltonian. The hamiltonian is consider that main part of our research, becouse we need to deal with it in a very carefull way to reduce some complexity. For our problem our hamiltonian is very simple but take care when you are planing to deal with a bigger one.  \n",
    "\n",
    "This is our hamiltonian to find the lowest eigenvalue.  \n",
    "\n",
    "$$\n",
    "\n",
    "\\begin{equation}\n",
    "\\begin{bmatrix}\n",
    "    0 & 0 & 0 & 0 \\\\\n",
    "    0 & -1 & 1 & 0 \\\\\n",
    "    0 & 1 & -1 & 0 \\\\\n",
    "    0 & 0 & 0 & 0 \\\\\n",
    "\\end{bmatrix}  \n",
    "\\end{equation}\n",
    "\n",
    "$$\n",
    "\n",
    "If you carefully this is a non-unitary matrix. This can be anoying at the moment to insert into a quantum circuit.Becouse we work with unitary transformations. Nevertheless, a very interesting properties about the expectation value is that this is linear, such as:\n",
    "\n",
    "$$  \\langle \\psi(\\theta) | \\hat{H} | \\psi(\\theta) \\rangle  = \\langle \\psi(\\theta) | \\hat{H}_1+\\hat{H}_2 | \\psi(\\theta) \\rangle =  \\langle \\psi(\\theta) | \\hat{H}_1 | \\psi(\\theta) \\rangle +  \\langle \\psi(\\theta) | \\hat{H}_2 | \\psi(\\theta) \\rangle $$\n",
    "\n",
    "Now we can convert our non-unitary matrix into two separete unitary matrices. Caviat; this is not the only way to convert this matrix into a unitary.\n",
    "\n",
    "$$\n",
    "\n",
    "\\begin{equation}\n",
    "\\begin{bmatrix}\n",
    "    0 & 0 & 0 & 0 \\\\\n",
    "    0 & -1 & 1 & 0 \\\\\n",
    "    0 & 1 & -1 & 0 \\\\\n",
    "    0 & 0 & 0 & 0 \\\\\n",
    "\\end{bmatrix} =\n",
    "\n",
    "\\begin{bmatrix}\n",
    "    1 & 0 & 0 & 0 \\\\\n",
    "    0 & -1 & 0 & 0 \\\\\n",
    "    0 & 0 & -1 & 0 \\\\\n",
    "    0 & 0 & 0 & 1 \\\\\n",
    "\\end{bmatrix} +\n",
    "\n",
    "\\begin{bmatrix}\n",
    "    -1 & 0 & 0 & 0 \\\\\n",
    "    0 & 0 & 1 & 0 \\\\\n",
    "    0 & 1 & 0 & 0 \\\\\n",
    "    0 & 0 & 0 & -1 \\\\\n",
    "\\end{bmatrix}  \n",
    "\\end{equation}\n",
    "\n",
    "$$\n",
    "\n",
    "Perfect, now our matrix in divide into two unitary matrices. Now in order to optimize the quantum parameters to find the lowest eigenvalue we need to find the gradient of our quantum circuit with respect to the parameters. Maybe you are wonder, how can I achieve this? In the resource section you will find a more detail explanation [1], here a I will give you the short part.  \n",
    "\n",
    "We will build something call the Parameter-Shift Rule in order to find the derivate in our circuit with certain parameters. So, lets assume we have $N$ parameters in our quantum circuit and we want to find the derivate/gradient in the $N_i$. With the parameter-shift rule we need only evaluate our circuit in the following way:\n",
    "\n",
    "$$  \\nabla_i  \\langle \\psi(\\theta_i) | \\hat{H} | \\psi(\\theta_i) \\rangle = \\frac{1}{2} [ \\langle \\psi(\\theta_i+\\frac{\\pi}{2}) | \\hat{H} | \\psi(\\theta_i+\\frac{\\pi}{2}) \\rangle - \\langle \\psi(\\theta_i-\\frac{\\pi}{2}) | \\hat{H} | \\psi(\\theta_i-\\frac{\\pi}{2}) \\rangle ] $$\n",
    "\n",
    "As you can see we are evaluating the quantum circuit and calculating the expectation value just moving one parameter at the time and the other are constant. With this tecnique we just need to iterate for all the parameters and we will get all the gradients for all the points. With the gradient we can apply a simply gradient descent algorithm to find the lowest value in our hamiltonian as follow:\n",
    "\n",
    "$$ \\theta_{new} = \\theta_{old} - l*\\nabla_i \\langle \\hat{H} \\rangle $$\n",
    "\n",
    "Finally, just iterate many times to find the lowest eigenvalue!\n",
    "\n",
    "## Resources:\n",
    "[1] Parameter Shift-Rule: https://pennylane.ai/qml/demos/tutorial_backprop.html\n",
    "\n",
    "## Comments:\n",
    "- Remember that the just need the gradient in the circuit to calculate the values.\n",
    "- Remember the order of the operators.\n",
    "\n",
    "### Importing\n",
    "\n",
    "We will work with Qiskit and Pennylane. Pennylane is a very focus framework to work with Quantum Machine Learning projects.in the other hand, Qiskit is more friendly and it is used for most student when are involved in the quantum computing world. We will use qiskit to build the circuit a test the problem and pennylane to corroborate our problem and results."
   ]
  },
  {
   "cell_type": "code",
   "execution_count": 1,
   "metadata": {},
   "outputs": [],
   "source": [
    "from qiskit import QuantumCircuit, Aer, execute, QuantumRegister, transpile\n",
    "from qiskit.circuit import Parameter, ParameterVector\n",
    "from qiskit.visualization import plot_histogram\n",
    "from qiskit.quantum_info import Operator\n",
    "from qiskit.opflow import CircuitStateFn, CircuitOp\n",
    "import numpy as np\n",
    "import matplotlib.pyplot as plt"
   ]
  },
  {
   "attachments": {},
   "cell_type": "markdown",
   "metadata": {},
   "source": [
    "We need a quantum circuit with just 2 qubits. Why? because our operator (matrix) is a 4x4 matrix which is $2^n$ x $2^n$ where $n$ is the number of qubits. Solving this we have that $n$ must be equal to 2. "
   ]
  },
  {
   "cell_type": "code",
   "execution_count": 2,
   "metadata": {},
   "outputs": [
    {
     "data": {
      "image/png": "[encoded data removed]",
      "text/plain": [
       "<Figure size 968.63x361.2 with 1 Axes>"
      ]
     },
     "execution_count": 2,
     "metadata": {},
     "output_type": "execute_result"
    }
   ],
   "source": [
    "phi = ParameterVector('Phi',6)\n",
    "\n",
    "qc = QuantumCircuit(2)\n",
    "qc.rx(phi[0],0)\n",
    "qc.rx(phi[1],1)\n",
    "qc.cnot(0,1)\n",
    "qc.ry(phi[2],0)\n",
    "qc.ry(phi[3],1)\n",
    "qc.cnot(0,1)\n",
    "qc.rz(phi[4],0)\n",
    "qc.rz(phi[5],1)\n",
    "\n",
    "qc.draw('mpl', scale=2.5)"
   ]
  },
  {
   "attachments": {},
   "cell_type": "markdown",
   "metadata": {},
   "source": [
    "In principle, your circuit can have the quantum gates that you want as long as has parameters and also a varierity of them. Depending of the problem itself the number of the parameters can increased, but careful to use to many parameters which this will be the quantum circuit more complex and slowly to evaluate expectation values.  \n",
    "The next function will calculate the expectation value given a initial parameters and operators for a given quantum circuit. I will explain each line in detail."
   ]
  },
  {
   "cell_type": "code",
   "execution_count": 3,
   "metadata": {},
   "outputs": [],
   "source": [
    "def ShiftRuleV3(qc, initial_values, operators : list):\n",
    "\n",
    "    num_para = qc.num_parameters\n",
    "    num_qubits = qc.num_qubits\n",
    "\n",
    "    operators_list = []\n",
    "\n",
    "    ### Convert the matrices into operators using qiskit functions.\n",
    "    for k in range(len(operators)):\n",
    "        Opt = Operator(operators[k])\n",
    "        operators_list.append(CircuitOp(Opt.to_instruction()))\n",
    "\n",
    "    ### Expectation Value Calculation ###\n",
    "    # First we assign the parameters and calculate the expectation value.\n",
    "    qc_normal = qc.bind_parameters({phi:initial_values})\n",
    "    psi_normal = CircuitStateFn(qc_normal)\n",
    "\n",
    "    exp_value = 0.0\n",
    "    # Here we iterate over the different operators.\n",
    "    for k in range(len(operators)):\n",
    "        exp_value += psi_normal.adjoint().compose(operators_list[k]).compose(psi_normal).eval().real\n",
    "\n",
    "    gradients = []\n",
    "    ### Gradient Calculation ###\n",
    "    for i in range(num_para):\n",
    "\n",
    "        exp_value_plus = 0.0\n",
    "        exp_value_minus = 0.0\n",
    "\n",
    "        actual_parameter = initial_values\n",
    "        actual_parameter[i] = actual_parameter[i] + np.pi/2\n",
    "\n",
    "        qc_plus = qc.bind_parameters({phi:actual_parameter})\n",
    "\n",
    "        actual_parameter[i] = actual_parameter[i] - np.pi\n",
    "\n",
    "        qc_minus = qc.bind_parameters({phi:actual_parameter})\n",
    "\n",
    "        psi_plus = CircuitStateFn(qc_plus)\n",
    "        psi_minus = CircuitStateFn(qc_minus)\n",
    "\n",
    "        for k in range(len(operators)):\n",
    "            exp_value_plus += psi_plus.adjoint().compose(operators_list[k]).compose(psi_plus).eval().real\n",
    "            exp_value_minus += psi_minus.adjoint().compose(operators_list[k]).compose(psi_minus).eval().real\n",
    "\n",
    "        gradients.append(0.5*(exp_value_plus-exp_value_minus))\n",
    "\n",
    "        actual_parameter[i] = actual_parameter[i] + np.pi/2\n",
    "\n",
    "    return exp_value, np.array(gradients)"
   ]
  },
  {
   "cell_type": "markdown",
   "metadata": {},
   "source": [
    "### Solving the problem"
   ]
  },
  {
   "cell_type": "code",
   "execution_count": 9,
   "metadata": {},
   "outputs": [
    {
     "name": "stdout",
     "output_type": "stream",
     "text": [
      "Eigenvalues: [ 0. -2.  0.  0.]\n",
      "Initial Parameters: [0.37454012 0.95071431 0.67454012 0.45071431 0.25071431 0.75071431]\n",
      "Initial Expectation Value: -0.09125348550048962\n",
      "Initial Gradient Values: [-0.05948042 -0.07455684  0.06623967 -0.17180918  0.18112438 -0.18112438]\n"
     ]
    }
   ],
   "source": [
    "initial = np.array([0.37454012, 0.95071431, 0.67454012, 0.45071431, 0.25071431, 0.75071431])\n",
    "#initial = np.array([0.5,0.5,0.5,0.5,0.5,0.5])\n",
    "#initial = np.random.random(6)\n",
    "\n",
    "I = np.array([[1,0],[0,1]])\n",
    "X = np.array([[0,1],[1,0]])\n",
    "Y = np.array([[0, -1j],[1j, 0]])\n",
    "Z = np.array([[1,0],[0,-1]])\n",
    "\n",
    "#U = np.kron(np.kron(Z,I),Y)\n",
    "\n",
    "U1 = np.array([[1,0,0,0],\n",
    "     [0,-1,0,0],\n",
    "     [0,0,-1,0],\n",
    "     [0,0,0,1]])\n",
    "\n",
    "U2 = np.array([[-1,0,0,0],\n",
    "     [0,0,1,0],\n",
    "     [0,1,0,0],\n",
    "     [0,0,0,-1]])\n",
    "\n",
    "R1 = np.kron(I,I)\n",
    "R2 = np.kron(X,X)\n",
    "R3 = np.kron(Y,Y)\n",
    "R4 = np.kron(Z,Z)\n",
    "\n",
    "eigen_val = np.linalg.eigvals(U1+U2)\n",
    "print(\"Eigenvalues: {}\".format(eigen_val))\n",
    "\n",
    "H = [U1, U2]\n",
    "#H = [-R1, R2, R3, R4]\n",
    "\n",
    "exp_value, gradient = ShiftRuleV3(qc, initial,H)\n",
    "print(\"Initial Parameters: {}\".format(initial))\n",
    "print(\"Initial Expectation Value: {}\".format(exp_value))\n",
    "print(\"Initial Gradient Values: {}\".format(gradient))"
   ]
  },
  {
   "cell_type": "code",
   "execution_count": 10,
   "metadata": {},
   "outputs": [],
   "source": [
    "def Optimizer(qc, initial_values, operators, lr, epochs):\n",
    "\n",
    "    initial = initial_values\n",
    "    exp_values = []\n",
    "\n",
    "    for i in range(epochs):\n",
    "        exp, grad = ShiftRuleV3(qc, initial,operators)\n",
    "        exp_values.append(exp)\n",
    "        initial = initial - lr*grad\n",
    "        \n",
    "    return exp_values"
   ]
  },
  {
   "cell_type": "code",
   "execution_count": 12,
   "metadata": {},
   "outputs": [
    {
     "name": "stdout",
     "output_type": "stream",
     "text": [
      "Lowest Value: -1.9999981834066167\n"
     ]
    },
    {
     "data": {
      "image/png": "[encoded data removed]",
      "text/plain": [
       "<Figure size 432x288 with 1 Axes>"
      ]
     },
     "metadata": {
      "needs_background": "light"
     },
     "output_type": "display_data"
    }
   ],
   "source": [
    "epochs = 35\n",
    "\n",
    "epochs_line = np.linspace(0,epochs, epochs)\n",
    "lr = 0.5\n",
    "\n",
    "exp_value = Optimizer(qc, initial,H, lr, epochs)\n",
    "\n",
    "print(\"Lowest Value: {}\".format(exp_value[-1]))\n",
    "plt.plot(epochs_line, exp_value)\n",
    "plt.ylabel(\"Expectation Value\")\n",
    "plt.xlabel(\"Epochs\")\n",
    "plt.title(\"Optimization usign Gradient Descent\")\n",
    "plt.show()"
   ]
  },
  {
   "cell_type": "markdown",
   "metadata": {},
   "source": [
    "# Comparison with Pennylane"
   ]
  },
  {
   "cell_type": "code",
   "execution_count": 17,
   "metadata": {},
   "outputs": [
    {
     "name": "stdout",
     "output_type": "stream",
     "text": [
      "Initial Parameters: [0.5 0.5 0.5 0.5 0.5 0.5]\n",
      "Initial Expectation Value: 0.6758712218347047\n"
     ]
    }
   ],
   "source": [
    "# here we are just using the same value for all the parameters.\n",
    "initial = np.array([0.5,0.5,0.5,0.5,0.5,0.5])\n",
    "\n",
    "# MEasure the Z @ Z operator for simplicity.\n",
    "H = [R4]\n",
    "\n",
    "exp_value, gradient = ShiftRuleV3(qc, initial,H)\n",
    "print(\"Initial Parameters: {}\".format(initial))\n",
    "print(\"Initial Expectation Value: {}\".format(exp_value))"
   ]
  },
  {
   "cell_type": "code",
   "execution_count": 18,
   "metadata": {},
   "outputs": [],
   "source": [
    "# Pennylane implementations:\n",
    "from pennylane import numpy as np\n",
    "import pennylane as qml\n",
    "\n",
    "dev = qml.device(\"default.qubit\", wires=2)\n",
    "\n",
    "@qml.qnode(dev)\n",
    "def circuit(params):\n",
    "    qml.RX(params[0], wires=0)\n",
    "    qml.RX(params[0], wires=1)\n",
    "\n",
    "    qml.CNOT(wires=[0,1])\n",
    "\n",
    "    qml.RY(params[0], wires=0)\n",
    "    qml.RY(params[0], wires=1)\n",
    "\n",
    "    qml.CNOT(wires=[0,1])\n",
    "\n",
    "    qml.RZ(params[0], wires=0)\n",
    "    qml.RZ(params[0], wires=1)\n",
    "\n",
    "    return qml.expval(qml.PauliZ(0) @ qml.PauliZ(1))"
   ]
  },
  {
   "cell_type": "code",
   "execution_count": 19,
   "metadata": {},
   "outputs": [
    {
     "data": {
      "text/plain": [
       "tensor(0.67587122, requires_grad=True)"
      ]
     },
     "execution_count": 19,
     "metadata": {},
     "output_type": "execute_result"
    }
   ],
   "source": [
    "par = np.array([0.5], requires_grad=True)\n",
    "\n",
    "circuit(par)"
   ]
  },
  {
   "cell_type": "markdown",
   "metadata": {},
   "source": [
    "### Excelent! There are the same values. With this code you can generalize the parameter shift rule for any number of qubits."
   ]
  },
  {
   "cell_type": "markdown",
   "metadata": {},
   "source": []
  }
 ],
 "metadata": {
  "kernelspec": {
   "display_name": "Python 3",
   "language": "python",
   "name": "python3"
  },
  "language_info": {
   "codemirror_mode": {
    "name": "ipython",
    "version": 3
   },
   "file_extension": ".py",
   "mimetype": "text/x-python",
   "name": "python",
   "nbconvert_exporter": "python",
   "pygments_lexer": "ipython3",
   "version": "3.9.5"
  },
  "orig_nbformat": 4,
  "vscode": {
   "interpreter": {
    "hash": "b692c5112b84cb0f0146006066a71ec03118a3195a234c45307942b05862c083"
   }
  }
 },
 "nbformat": 4,
 "nbformat_minor": 2
}
