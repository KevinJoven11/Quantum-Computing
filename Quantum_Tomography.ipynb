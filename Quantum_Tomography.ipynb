{
 "cells": [
  {
   "cell_type": "code",
   "execution_count": 1,
   "metadata": {},
   "outputs": [],
   "source": [
    "import numpy as np\n",
    "from qiskit import QuantumCircuit, Aer, QuantumRegister, ClassicalRegister\n",
    "from qiskit.visualization import plot_histogram\n",
    "from qiskit.quantum_info import DensityMatrix\n",
    "from qiskit import assemble, transpile, execute"
   ]
  },
  {
   "cell_type": "markdown",
   "metadata": {},
   "source": [
    "# Quantum Tomography\n",
    "\n",
    "Base on: https://arxiv.org/pdf/1407.4759.pdf"
   ]
  },
  {
   "cell_type": "code",
   "execution_count": 2,
   "metadata": {},
   "outputs": [],
   "source": [
    "I = np.array([[1,0],[0,1]])\n",
    "px = np.array([[0,1],[1,0]])\n",
    "py = np.array([[0,-1j],[1j,0]])\n",
    "pz = np.array([[1,0],[0,-1]])"
   ]
  },
  {
   "cell_type": "code",
   "execution_count": 3,
   "metadata": {},
   "outputs": [],
   "source": [
    "\n",
    "def Tomo1Qubit(qc):\n",
    "    print('Real Density Matrix = \\n {}'.format(DensityMatrix(qc)))\n",
    "    Shots = 100000\n",
    "    exp_values = ['x','y','z']\n",
    "\n",
    "    exp = []\n",
    "    for i in exp_values:\n",
    "        weight_0 = 0\n",
    "        weight_1 = 0\n",
    "        \n",
    "        qr = QuantumRegister(1, 'q')\n",
    "        cr = ClassicalRegister(1,'c')\n",
    "        circ = QuantumCircuit(qr, cr)\n",
    "        circ.append(qc,[qr[0]])\n",
    "\n",
    "        if i == 'x':\n",
    "            circ.h(0)\n",
    "        elif i == 'y':\n",
    "            circ.sdg(0)\n",
    "            circ.h(0)\n",
    "        else:\n",
    "            circ.i(0)\n",
    "\n",
    "        circ.measure(qr[0],cr[0])\n",
    "\n",
    "        Simulation = Aer.get_backend('qasm_simulator')\n",
    "        Quantum_Transpiler = transpile(circ,Simulation)\n",
    "        Quantum_Obj = assemble(Quantum_Transpiler, shots=Shots)\n",
    "        Result = Simulation.run(Quantum_Obj).result()\n",
    "        \n",
    "        weight_0 = Result.get_counts().setdefault('0',0)\n",
    "        weight_1 = Result.get_counts().setdefault('1',0)\n",
    "\n",
    "        exp.append((weight_0-weight_1)/Shots)\n",
    "\n",
    "    estimate_density = 0.5*(I + exp[0]*px + exp[1]*py + exp[2]*pz)\n",
    "\n",
    "    print(\"Estimate density matrix = \")\n",
    "    return estimate_density"
   ]
  },
  {
   "cell_type": "code",
   "execution_count": 4,
   "metadata": {},
   "outputs": [
    {
     "name": "stdout",
     "output_type": "stream",
     "text": [
      "Real Density Matrix = \n",
      " DensityMatrix([[0.7860307 +0.j        , 0.35355339-0.20781347j],\n",
      "               [0.35355339+0.20781347j, 0.2139693 +0.j        ]],\n",
      "              dims=(2,))\n",
      "Estimate density matrix = \n"
     ]
    },
    {
     "data": {
      "text/plain": [
       "array([[0.78447+0.j     , 0.35219-0.20787j],\n",
       "       [0.35219+0.20787j, 0.21553+0.j     ]])"
      ]
     },
     "execution_count": 4,
     "metadata": {},
     "output_type": "execute_result"
    }
   ],
   "source": [
    "qc = QuantumCircuit(1)\n",
    "qc.h(0)\n",
    "qc.t(0)\n",
    "qc.rx(np.pi*0.3, 0)\n",
    "\n",
    "Tomo1Qubit(qc)"
   ]
  },
  {
   "cell_type": "code",
   "execution_count": null,
   "metadata": {},
   "outputs": [],
   "source": []
  }
 ],
 "metadata": {
  "kernelspec": {
   "display_name": "Python 3.9.5 64-bit",
   "language": "python",
   "name": "python3"
  },
  "language_info": {
   "codemirror_mode": {
    "name": "ipython",
    "version": 3
   },
   "file_extension": ".py",
   "mimetype": "text/x-python",
   "name": "python",
   "nbconvert_exporter": "python",
   "pygments_lexer": "ipython3",
   "version": "3.9.5"
  },
  "orig_nbformat": 4,
  "vscode": {
   "interpreter": {
    "hash": "b692c5112b84cb0f0146006066a71ec03118a3195a234c45307942b05862c083"
   }
  }
 },
 "nbformat": 4,
 "nbformat_minor": 2
}
