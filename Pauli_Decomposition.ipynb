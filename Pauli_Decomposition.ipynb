{
 "cells": [
  {
   "cell_type": "code",
   "execution_count": 1,
   "metadata": {},
   "outputs": [],
   "source": [
    "import numpy as np\n",
    "from itertools import product"
   ]
  },
  {
   "attachments": {},
   "cell_type": "markdown",
   "metadata": {},
   "source": [
    "## To GitHub\n",
    "\n",
    "You can use this code to find the Pauili Decomposition.\n",
    "Link: https://quantumcomputing.stackexchange.com/questions/8725/can-arbitrary-matrices-be-decomposed-using-the-pauli-basis"
   ]
  },
  {
   "cell_type": "code",
   "execution_count": 5,
   "metadata": {},
   "outputs": [
    {
     "data": {
      "text/plain": [
       "{('I', 'I'): -0.25,\n",
       " ('I', 'X'): 0.0,\n",
       " ('I', 'Y'): 0j,\n",
       " ('I', 'Z'): 0.25,\n",
       " ('X', 'I'): 0.0,\n",
       " ('X', 'X'): 0.5,\n",
       " ('X', 'Y'): 0j,\n",
       " ('X', 'Z'): 0.0,\n",
       " ('Y', 'I'): 0j,\n",
       " ('Y', 'X'): 0j,\n",
       " ('Y', 'Y'): (0.5+0j),\n",
       " ('Y', 'Z'): 0j,\n",
       " ('Z', 'I'): 0.25,\n",
       " ('Z', 'X'): 0.0,\n",
       " ('Z', 'Y'): 0j,\n",
       " ('Z', 'Z'): 0.75}"
      ]
     },
     "execution_count": 5,
     "metadata": {},
     "output_type": "execute_result"
    }
   ],
   "source": [
    "\n",
    "A = np.array([[1,0,0,0],[0,-1,1,0],[0,1,-1,0],[0,0,0,0]])\n",
    "#A = np.eye(4)\n",
    "#A = np.array([[1,1,1,1],[-1,1,1,-1],[1,-1,-1,1],[-1,-1,-1,-1]])\n",
    "\n",
    "def Decomposition(A):\n",
    "\n",
    "    Pauli_Matrices = ['I', 'X', 'Y', 'Z']\n",
    "    Tras = []\n",
    "    dim = int(np.log2(len(A)))\n",
    "\n",
    "    I = np.array([[1,0],[0,1]])\n",
    "    X = np.array([[0,1],[1,0]])\n",
    "    Y = np.array([[0, -1j],[1j, 0]])\n",
    "    Z = np.array([[1,0],[0,-1]])\n",
    "\n",
    "    #Permutations = list(itertools.permutations_with_replacement(Pauli_Matrices, dim))\n",
    "\n",
    "    Permutations = []\n",
    "    for i in product(Pauli_Matrices, repeat = dim):\n",
    "        Permutations.append(i)\n",
    "\n",
    "    Matrices = Permutations.copy()\n",
    "\n",
    "    for j in range(len(Matrices)):\n",
    "        Res = 1\n",
    "        for i in range(len(Matrices[0])):\n",
    "            if Matrices[j][i] == 'I':\n",
    "                Res = np.kron(I,Res)\n",
    "            elif Matrices[j][i] == 'X':\n",
    "                Res = np.kron(X,Res)\n",
    "            elif Matrices[j][i] == 'Y':\n",
    "                Res = np.kron(Y,Res)\n",
    "            else:\n",
    "                Res = np.kron(Z,Res)\n",
    "        Tras.append(Res)\n",
    "\n",
    "    coefficiens = []\n",
    "\n",
    "    for i in range(len(Tras)):\n",
    "        coefficiens.append((1/2**dim)*np.trace(np.dot(Tras[i],A)))\n",
    "\n",
    "    Decomposition_List = {Permutations[i]: coefficiens[i] for i in range(len(Permutations))}\n",
    "    Decomposition_Matrix = {Permutations[i]: Tras[i] for i in range(len(Permutations))}\n",
    "\n",
    "    return Decomposition_List, Decomposition_Matrix\n",
    "\n",
    "Values, Matrices = Decomposition(A)\n",
    "Values"
   ]
  },
  {
   "cell_type": "code",
   "execution_count": 10,
   "metadata": {},
   "outputs": [
    {
     "data": {
      "text/plain": [
       "array([[ 1.+0.j,  0.+0.j,  0.+0.j,  0.+0.j],\n",
       "       [ 0.+0.j, -1.+0.j,  1.+0.j,  0.+0.j],\n",
       "       [ 0.+0.j,  1.+0.j, -1.+0.j,  0.+0.j],\n",
       "       [ 0.+0.j,  0.+0.j,  0.+0.j,  0.+0.j]])"
      ]
     },
     "execution_count": 10,
     "metadata": {},
     "output_type": "execute_result"
    }
   ],
   "source": [
    "-0.25*Matrices[('I','I')]+0.25*Matrices[('I','Z')]+0.5*Matrices[('X','X')]+0.5*Matrices[('Y','Y')]+0.25*Matrices[('Z','I')]+0.75*Matrices[('Z','Z')]"
   ]
  },
  {
   "cell_type": "code",
   "execution_count": null,
   "metadata": {},
   "outputs": [],
   "source": []
  }
 ],
 "metadata": {
  "kernelspec": {
   "display_name": "Python 3",
   "language": "python",
   "name": "python3"
  },
  "language_info": {
   "codemirror_mode": {
    "name": "ipython",
    "version": 3
   },
   "file_extension": ".py",
   "mimetype": "text/x-python",
   "name": "python",
   "nbconvert_exporter": "python",
   "pygments_lexer": "ipython3",
   "version": "3.9.5"
  },
  "orig_nbformat": 4,
  "vscode": {
   "interpreter": {
    "hash": "b692c5112b84cb0f0146006066a71ec03118a3195a234c45307942b05862c083"
   }
  }
 },
 "nbformat": 4,
 "nbformat_minor": 2
}
