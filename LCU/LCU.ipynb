{
 "cells": [
  {
   "cell_type": "markdown",
   "metadata": {},
   "source": [
    "# Implemention of Linear Combination of Unitaries (LCU)\n",
    "\n",
    "This code implements the basic Linear Combination of Unitaries (LCU) method.  For original references on LCU, please see [1]. This method utilizes functions previously created in *Select.ipynb*, *SP.ipynb*, and *Pauli_Decom.ipynb*. In summary, the LCU method implements the following transformation:\n",
    "\n",
    "$$ \\hat{H} = \\sum_i \\alpha_i \\hat{U}_i = \\begin{bmatrix}\n",
    "        \\hat{H} & * \\\\\n",
    "        * & *\n",
    "    \\end{bmatrix} $$\n",
    "\n",
    "The transformation involves $\\hat{U}_i$, which represents the decomposition of the Hamiltonian into Pauli operators. This decomposition is implemented using *Pauli_Decom.ipynb*. Additionally, the coefficients associated with each $\\hat{U}_i$ are defined by quantum state preparation.\n",
    "\n",
    "<div align=\"center\">\n",
    "    <img src=\"images/LCU.png\" width=\"600\">\n",
    "</div>\n",
    "\n",
    "[1] https://arxiv.org/pdf/1202.5822.pdf"
   ]
  },
  {
   "cell_type": "code",
   "execution_count": 1,
   "metadata": {},
   "outputs": [],
   "source": [
    "## Import all the libraries.\n",
    "import numpy as np\n",
    "from py_functions.SP import State_Preparation as sp\n",
    "from py_functions.Select import Select as sel\n",
    "from py_functions.Pauli_Decom import pauli_composition as pd\n",
    "from qiskit import QuantumCircuit\n",
    "import qiskit.quantum_info as qi"
   ]
  },
  {
   "cell_type": "markdown",
   "metadata": {},
   "source": [
    "Define a matrix to decompose. It can be whatever matrix from $2\\times2$ to $N \\times N$ (carefull with the size)."
   ]
  },
  {
   "cell_type": "code",
   "execution_count": 9,
   "metadata": {},
   "outputs": [
    {
     "name": "stdout",
     "output_type": "stream",
     "text": [
      "Mi matrix:\n",
      "[[ 1  0  1  0]\n",
      " [ 0 -1  1  0]\n",
      " [ 0  1 -1  0]\n",
      " [ 0  0  0  1]]\n"
     ]
    }
   ],
   "source": [
    "#A = np.array([[1,1],[0,-1]])\n",
    "A = np.array([[1,0,1,0],[0,-1,1,0],[0,1,-1,0],[0,0,0,1]])\n",
    "print(\"Mi matrix:\")\n",
    "print(A)"
   ]
  },
  {
   "cell_type": "markdown",
   "metadata": {},
   "source": [
    "Decompose the previous matrix into Pauli operators and coefficients. ALl this information will be storage in a dictionary wich will be use to the functions."
   ]
  },
  {
   "cell_type": "code",
   "execution_count": 10,
   "metadata": {},
   "outputs": [
    {
     "name": "stdout",
     "output_type": "stream",
     "text": [
      "{'II': 0.0, 'IX': 0.25, 'IY': 0.25j, 'IZ': 0.0, 'XI': 0.0, 'XX': 0.5, 'XY': 0j, 'XZ': 0.0, 'YI': 0j, 'YX': 0j, 'YY': (0.5+0j), 'YZ': 0j, 'ZI': 0.0, 'ZX': 0.25, 'ZY': 0.25j, 'ZZ': 1.0}\n"
     ]
    }
   ],
   "source": [
    "pauli = pd.Decomposition(A) ## Dictionary\n",
    "prob = np.abs(np.array(list(pauli.values())))\n",
    "print(pauli)"
   ]
  },
  {
   "cell_type": "code",
   "execution_count": 11,
   "metadata": {},
   "outputs": [
    {
     "data": {
      "image/png": "[encoded data removed]",
      "text/plain": [
       "<Figure size 387.597x385.28 with 1 Axes>"
      ]
     },
     "execution_count": 11,
     "metadata": {},
     "output_type": "execute_result"
    }
   ],
   "source": [
    "# Define the lens.\n",
    "control_qubits = int(np.log2(len(prob)))\n",
    "keys = list(pauli.keys())\n",
    "pauli_qubits = len(keys[0])\n",
    "\n",
    "### State preparation.\n",
    "prep = sp.state_preparation(prob, 0)\n",
    "qc_prep = QuantumCircuit(control_qubits, name=\"Prep\")\n",
    "qc_prep.append(prep, list(np.arange(0,control_qubits)))\n",
    "### Inverse of State preparation.\n",
    "prep_dagger = qc_prep.inverse()\n",
    "\n",
    "### Select circuit.\n",
    "select = sel.select_circuit(pauli)\n",
    "qc_select = QuantumCircuit(control_qubits+pauli_qubits, name=\"Select\")\n",
    "qc_select.append(select, list(np.arange(0,control_qubits+pauli_qubits)))\n",
    "\n",
    "### Put it all together.\n",
    "qc_complete = QuantumCircuit(control_qubits+pauli_qubits)\n",
    "qc_complete.append(qc_prep, list(np.arange(0,control_qubits)))\n",
    "qc_complete.append(qc_select, list(np.arange(0,control_qubits+pauli_qubits)))\n",
    "qc_complete.append(prep_dagger, list(np.arange(0,control_qubits)))\n",
    "qc_complete.draw('mpl')"
   ]
  },
  {
   "cell_type": "code",
   "execution_count": 6,
   "metadata": {},
   "outputs": [
    {
     "name": "stdout",
     "output_type": "stream",
     "text": [
      "[[ 0.33+0.j  0.  +0.j  0.33+0.j  0.  +0.j]\n",
      " [ 0.  +0.j -0.33+0.j  0.33+0.j  0.  +0.j]\n",
      " [ 0.  +0.j  0.33+0.j -0.33+0.j  0.  +0.j]\n",
      " [ 0.  +0.j  0.  +0.j  0.  +0.j  0.33+0.j]]\n"
     ]
    }
   ],
   "source": [
    "### This cell plot the upper-left corne sub-matrix that correspond to the same matrix as A with a normalization factor.\n",
    "\n",
    "matrix_shape = A.shape[0]\n",
    "op = qi.Operator(qc_complete).reverse_qargs()\n",
    "array = op.data\n",
    "\n",
    "def clean_matrix(matrix, threshold=0.01):\n",
    "    cleaned_matrix = np.copy(matrix)\n",
    "    for i in range(cleaned_matrix.shape[0]):\n",
    "        for j in range(cleaned_matrix.shape[1]):\n",
    "            element = cleaned_matrix[i, j]\n",
    "            # Verifica si el valor absoluto del elemento es menor que el umbral\n",
    "            if np.abs(element) < threshold:\n",
    "                cleaned_matrix[i, j] = 0\n",
    "            else:\n",
    "                # Truncar las partes real e imaginaria a dos decimales\n",
    "                real_part = np.round(element.real, 2)\n",
    "                imag_part = np.round(element.imag, 2)\n",
    "                cleaned_matrix[i, j] = real_part + 1j * imag_part\n",
    "    return cleaned_matrix\n",
    "\n",
    "cleaned_example_matrix = clean_matrix(array)\n",
    "\n",
    "#print(cleaned_example_matrix) ## Uncomment this to see the entire matrix. \n",
    "print(cleaned_example_matrix[:matrix_shape,:matrix_shape])"
   ]
  }
 ],
 "metadata": {
  "kernelspec": {
   "display_name": "Python 3",
   "language": "python",
   "name": "python3"
  },
  "language_info": {
   "codemirror_mode": {
    "name": "ipython",
    "version": 3
   },
   "file_extension": ".py",
   "mimetype": "text/x-python",
   "name": "python",
   "nbconvert_exporter": "python",
   "pygments_lexer": "ipython3",
   "version": "3.9.5"
  }
 },
 "nbformat": 4,
 "nbformat_minor": 2
}
