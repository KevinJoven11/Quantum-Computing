{
 "cells": [
  {
   "cell_type": "markdown",
   "metadata": {},
   "source": [
    "# Quantum State Preparation Circuit\n",
    "\n",
    "This code creates the quantum circuit for quantum state preparation base on [1]. All the calculation for the angles and the circuit itself can be see in the paper.\n",
    "\n",
    "[1] A divide‑and‑conquer algorithm for quantum state preparation - https://www.nature.com/articles/s41598-021-85474-1"
   ]
  },
  {
   "cell_type": "code",
   "execution_count": 412,
   "metadata": {},
   "outputs": [],
   "source": [
    "import numpy as np\n",
    "from qiskit import QuantumCircuit, Aer, transpile, assemble\n",
    "from qiskit.circuit.library.standard_gates import RYGate\n",
    "from qiskit.visualization import plot_histogram\n",
    "import math\n",
    "import qiskit.quantum_info as qi\n",
    "from sklearn.preprocessing import normalize"
   ]
  },
  {
   "cell_type": "markdown",
   "metadata": {},
   "source": [
    "Function to calculate the angles inside the Ry gates."
   ]
  },
  {
   "cell_type": "code",
   "execution_count": 413,
   "metadata": {},
   "outputs": [],
   "source": [
    "def gen_angles(x):\n",
    "    \"\"\" This function give the angles for state preparation given \n",
    "        a set on probabilities in the quantum circuit.\n",
    "        input:\n",
    "            x : list = array of probabilities for the state.append\n",
    "        output:\n",
    "            angles: angles for the quantum circuit.\n",
    "\n",
    "        Example:\n",
    "            x = [np.sqrt(0.5),np.sqrt(0.2),np.sqrt(0.1),np.sqrt(0.3)]\n",
    "        Where:\n",
    "            0.5+0.2+0.1+0.3 = 1\n",
    "        Output:\n",
    "            array([1.2945, 1.1278, 2.0943])\n",
    "    \"\"\"\n",
    "\n",
    "    angles = np.zeros(int(len(x)/2))\n",
    "    if len(x)>1:\n",
    "        new_x = np.zeros(int(len(x)/2))\n",
    "\n",
    "        for k in range(0, len(new_x)):\n",
    "            new_x[k] = np.sqrt(np.abs(x[2*k])**2+np.abs(x[2*k+1])**2)\n",
    "\n",
    "        inner_angles = gen_angles(new_x)\n",
    "        angles = np.zeros(int(len(x)/2))\n",
    "        \n",
    "        for k in range(0, len(new_x)):\n",
    "            if new_x[k] != 0:\n",
    "                if x[2*k] > 0:\n",
    "                    angles[k] = 2*np.arcsin((x[2*k+1])/(new_x[k]))\n",
    "                else:\n",
    "                    angles[k] = 2*np.pi-2*np.arcsin((x[2*k+1])/(new_x[k]))\n",
    "            else:\n",
    "                angles[k] = 0\n",
    "\n",
    "        angles = np.concatenate((inner_angles,angles))\n",
    "    return angles"
   ]
  },
  {
   "cell_type": "code",
   "execution_count": 414,
   "metadata": {},
   "outputs": [],
   "source": [
    "def apply_gate(qc, num_qubits, value):\n",
    "    \"\"\" This function add the N-control Ry gate given a \n",
    "        quantum circuit.\n",
    "        input:\n",
    "            qc : QuantumCircuit \n",
    "            num_qubits: which qubits are gona be affected.\n",
    "            value : float = value for the Ry gate.\n",
    "    \"\"\"\n",
    "    if num_qubits == 0:\n",
    "        qc.ry(value, 0) \n",
    "    elif num_qubits == 2:\n",
    "        c3h_gate = RYGate(value).control(1)\n",
    "        qc.append(c3h_gate, [0,1])\n",
    "    elif num_qubits == 3:\n",
    "        c3h_gate = RYGate(value).control(2)\n",
    "        qc.append(c3h_gate, [0,1,2])\n",
    "    elif num_qubits == 4:\n",
    "        c3h_gate = RYGate(value).control(3)\n",
    "        qc.append(c3h_gate, [0,1,2,3])"
   ]
  },
  {
   "cell_type": "code",
   "execution_count": 415,
   "metadata": {},
   "outputs": [
    {
     "data": {
      "text/plain": [
       "array([1.2945697 , 1.12788528, 2.0943951 ])"
      ]
     },
     "execution_count": 415,
     "metadata": {},
     "output_type": "execute_result"
    }
   ],
   "source": [
    "gen_angles([np.sqrt(0.5),np.sqrt(0.2),np.sqrt(0.1),np.sqrt(0.3)])"
   ]
  },
  {
   "cell_type": "markdown",
   "metadata": {},
   "source": [
    "State preparation quantum circuit."
   ]
  },
  {
   "cell_type": "code",
   "execution_count": 416,
   "metadata": {},
   "outputs": [],
   "source": [
    "def state_preparation(prob, if_measure):\n",
    "\n",
    "    qc = QuantumCircuit(math.log2(len(prob)), math.log2(len(prob)))\n",
    "    prob = prob / np.linalg.norm(prob)\n",
    "    state = np.sqrt(prob)\n",
    "    angles = gen_angles(state)\n",
    "\n",
    "    ### Add quantum gates to the circuit.\n",
    "\n",
    "    apply_gate(qc, 0, angles[0])\n",
    "    qc.barrier() # barrier for better visualization.\n",
    "\n",
    "    for val in range(2, len(angles)+1):\n",
    "        num_qubits_required = math.ceil(math.log2(val+1)) if val != 0 else 1\n",
    "        binary_val = format(val, f'0{num_qubits_required}b')[::-1]\n",
    "\n",
    "        binary_val = binary_val[0:num_qubits_required-1][::-1]\n",
    "\n",
    "        for k, bit in enumerate(binary_val):\n",
    "            if bit == '0':\n",
    "                qc.x(k)\n",
    "        \n",
    "        apply_gate(qc, num_qubits_required, angles[val-1])\n",
    "\n",
    "        for k, bit in enumerate(binary_val):\n",
    "            if bit == '0':\n",
    "                qc.x(k)\n",
    "\n",
    "        qc.barrier()\n",
    "\n",
    "    if if_measure == 1:\n",
    "        measure_qubits = np.arange(int(math.log2(len(prob))))\n",
    "        qc.measure(measure_qubits, measure_qubits[::-1])\n",
    "\n",
    "    return qc"
   ]
  },
  {
   "cell_type": "code",
   "execution_count": 421,
   "metadata": {},
   "outputs": [
    {
     "data": {
      "image/png": "[encoded data removed]",
      "text/plain": [
       "<Figure size 688.452x204.68 with 1 Axes>"
      ]
     },
     "execution_count": 421,
     "metadata": {},
     "output_type": "execute_result"
    }
   ],
   "source": [
    "#prob = [0.3,0.3,0.3,0.1]\n",
    "prob = [1,1,1,2]\n",
    "\n",
    "qc = state_preparation(prob, 1)\n",
    "qc.draw('mpl')"
   ]
  },
  {
   "cell_type": "markdown",
   "metadata": {},
   "source": [
    "Simulation for testing the quantum circuit."
   ]
  },
  {
   "cell_type": "code",
   "execution_count": 422,
   "metadata": {},
   "outputs": [
    {
     "data": {
      "image/png": "[encoded data removed]",
      "text/plain": [
       "<Figure size 504x360 with 1 Axes>"
      ]
     },
     "execution_count": 422,
     "metadata": {},
     "output_type": "execute_result"
    }
   ],
   "source": [
    "Simulation = Aer.get_backend('qasm_simulator')\n",
    "Quantum_Transpiler = transpile(qc,Simulation)\n",
    "Quantum_Obj = assemble(Quantum_Transpiler, shots=100000)\n",
    "Result = Simulation.run(Quantum_Obj).result().get_counts()\n",
    "\n",
    "plot_histogram(Result)"
   ]
  },
  {
   "cell_type": "code",
   "execution_count": null,
   "metadata": {},
   "outputs": [],
   "source": []
  }
 ],
 "metadata": {
  "kernelspec": {
   "display_name": "Python 3",
   "language": "python",
   "name": "python3"
  },
  "language_info": {
   "codemirror_mode": {
    "name": "ipython",
    "version": 3
   },
   "file_extension": ".py",
   "mimetype": "text/x-python",
   "name": "python",
   "nbconvert_exporter": "python",
   "pygments_lexer": "ipython3",
   "version": "3.9.5"
  }
 },
 "nbformat": 4,
 "nbformat_minor": 2
}
