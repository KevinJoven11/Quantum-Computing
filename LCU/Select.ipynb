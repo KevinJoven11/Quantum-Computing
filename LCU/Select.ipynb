{
 "cells": [
  {
   "cell_type": "markdown",
   "metadata": {},
   "source": [
    "# Selection Algorithm. Building block for LCU.\n",
    "\n",
    "This building block construct the selection process for matrices of 1 qubit (at this moment)."
   ]
  },
  {
   "cell_type": "code",
   "execution_count": 2,
   "metadata": {},
   "outputs": [],
   "source": [
    "from qiskit.circuit.library.standard_gates import XGate, YGate, ZGate, IGate, PhaseGate\n",
    "from qiskit.quantum_info.operators import Operator\n",
    "from qiskit import QuantumCircuit, Aer, transpile, assemble\n",
    "import numpy as np\n",
    "from py_functions.SP import State_Preparation as sp"
   ]
  },
  {
   "cell_type": "code",
   "execution_count": 3,
   "metadata": {},
   "outputs": [],
   "source": [
    "info = {'I':1, 'X':0.5, 'Y':0.5j, 'Z': 0}\n",
    "#info = {'II': 1, 'IX': 0, 'IY': 0, 'IZ': 0,\n",
    "#        'XI': 0, 'XX': 1, 'XY': 0, 'XZ': 0, \n",
    "#        'YI': 0, 'YX': 0, 'YY': 0, 'YZ': 0, \n",
    "#        'ZI': 0, 'ZX': 0, 'ZY': 0, 'ZZ': 0,}\n",
    "\n",
    "## With pauli decomposition:\n",
    "I = np.array([[1,0],[0,1]])\n",
    "X = np.array([[0,1],[1,0]])\n",
    "Z = np.array([[1,0],[0,-1]])\n",
    "Y = np.array([[0, -1j],[1j,0]])"
   ]
  },
  {
   "cell_type": "code",
   "execution_count": 38,
   "metadata": {},
   "outputs": [],
   "source": [
    "def give_pauli(str):\n",
    "\n",
    "    if str == 'I':\n",
    "        return np.array([[1,0],[0,1]])\n",
    "    elif str == 'X':\n",
    "        return np.array([[0,1],[1,0]])\n",
    "    elif str == 'Y':\n",
    "        return np.array([[0, -1j],[1j,0]])\n",
    "    elif str == 'Z':\n",
    "        return np.array([[1,0],[0,-1]])\n",
    "    else:\n",
    "        init = 1\n",
    "        for i in str:\n",
    "            if init == 1:\n",
    "                matrix = give_pauli(i)\n",
    "                init = 2\n",
    "            else:\n",
    "                matrix = np.kron(matrix, give_pauli(i))\n",
    "        return matrix\n",
    "\n",
    "def give_phase(value):\n",
    "    if value == 0:\n",
    "        return 0\n",
    "    elif isinstance(value, complex):\n",
    "        if value.imag == 0:\n",
    "            if value.real < 0:\n",
    "                return np.pi\n",
    "            else:\n",
    "                return 0\n",
    "        else:\n",
    "            if value.imag > 0:\n",
    "                return np.pi / 2\n",
    "            elif value.imag < 0:\n",
    "                return -np.pi / 2\n",
    "    elif isinstance(value, (int, float)):\n",
    "        if value < 0:\n",
    "            return np.pi\n",
    "        else:\n",
    "            return 0\n",
    "    else:\n",
    "        return None"
   ]
  },
  {
   "cell_type": "code",
   "execution_count": 32,
   "metadata": {},
   "outputs": [],
   "source": [
    "def select_circuit(matrix_info):\n",
    "\n",
    "    keys = list(matrix_info.keys())\n",
    "    num_qubits = len(keys[0])\n",
    "    num_control_qubits = int(np.log2(len(keys)))\n",
    "\n",
    "    qc_select = QuantumCircuit(int(num_qubits+num_control_qubits), name=\"Select\")\n",
    "\n",
    "    number_logic = 0 # variable to apply the xgates to the control unitaries.\n",
    "\n",
    "    for i in matrix_info.keys():\n",
    "        qc_aux = QuantumCircuit(num_qubits, name=\" {}  \".format(i))\n",
    "        opt = Operator(give_pauli(i))\n",
    "        qc_aux.unitary(opt, list(np.arange(0,num_qubits)))\n",
    "        Ui = qc_aux.control(num_control_qubits)\n",
    "\n",
    "        binary_number = '{0:b}'.format(number_logic).zfill(num_control_qubits)\n",
    "\n",
    "        ######## Circuit Implementation\n",
    "        ### Logic implementation\n",
    "        iter = 0\n",
    "        for j in binary_number:\n",
    "            if j == '0':\n",
    "                qc_select.x(iter)\n",
    "            iter = iter + 1\n",
    "\n",
    "        #### Add the quantum operator\n",
    "        P = PhaseGate(give_phase(matrix_info[i])).control(num_control_qubits-1)\n",
    "        qc_select.append(P, list(np.arange(0, num_control_qubits)))\n",
    "        qc_select.append(Ui, list(np.arange(0, num_qubits+num_control_qubits)))\n",
    "\n",
    "        ### Logic implementation inverse\n",
    "        iter = 0\n",
    "        for j in binary_number:\n",
    "            if j == '0':\n",
    "                qc_select.x(iter)\n",
    "            iter = iter + 1\n",
    "\n",
    "        ######## Finish implemention\n",
    "        qc_select.barrier()\n",
    "\n",
    "        number_logic = number_logic + 1\n",
    "    \n",
    "    return qc_select"
   ]
  },
  {
   "cell_type": "code",
   "execution_count": 33,
   "metadata": {},
   "outputs": [],
   "source": [
    "qc_select = select_circuit(info)"
   ]
  },
  {
   "cell_type": "code",
   "execution_count": 35,
   "metadata": {},
   "outputs": [
    {
     "data": {
      "image/png": "[encoded data removed]",
      "text/plain": [
       "<Figure size 507.997x204.68 with 1 Axes>"
      ]
     },
     "execution_count": 35,
     "metadata": {},
     "output_type": "execute_result"
    }
   ],
   "source": [
    "#prob = [1,0,0,0,0,1,0,0,0,0,0,0,0,0,0,0]\n",
    "prob = [1,0.5,0.5,0]\n",
    "\n",
    "prep = sp.state_preparation(prob, 0)\n",
    "qc_prep = QuantumCircuit(2, name=\"Prep\")\n",
    "qc_prep.append(prep, [0,1])\n",
    "\n",
    "prep_dagger = qc_prep.inverse()\n",
    "\n",
    "qc = QuantumCircuit(3)\n",
    "\n",
    "qc.append(qc_prep, [0,1])\n",
    "qc.barrier()\n",
    "\n",
    "qc.append(qc_select, [0,1,2])\n",
    "\n",
    "qc.barrier()\n",
    "qc.append(prep_dagger, [0,1])\n",
    "\n",
    "qc.draw('mpl')"
   ]
  },
  {
   "cell_type": "code",
   "execution_count": 36,
   "metadata": {},
   "outputs": [
    {
     "name": "stdout",
     "output_type": "stream",
     "text": [
      "[[ 0.5 +0.j  0.5 +0.j -0.35+0.j  0.35+0.j]\n",
      " [ 0.  +0.j  0.5 +0.j  0.35+0.j -0.35+0.j]\n",
      " [-0.35+0.j  0.35+0.j  0.5 +0.j  0.5 +0.j]\n",
      " [ 0.35+0.j -0.35+0.j  0.5 +0.j  0.  +0.j]]\n"
     ]
    }
   ],
   "source": [
    "import qiskit.quantum_info as qi\n",
    "\n",
    "op = qi.Operator(qc).reverse_qargs()\n",
    "array = op.data\n",
    "\n",
    "def clean_matrix(matrix, threshold=0.01):\n",
    "    cleaned_matrix = np.copy(matrix)\n",
    "    for i in range(cleaned_matrix.shape[0]):\n",
    "        for j in range(cleaned_matrix.shape[1]):\n",
    "            element = cleaned_matrix[i, j]\n",
    "            # Verifica si el valor absoluto del elemento es menor que el umbral\n",
    "            if np.abs(element) < threshold:\n",
    "                cleaned_matrix[i, j] = 0\n",
    "            else:\n",
    "                # Truncar las partes real e imaginaria a dos decimales\n",
    "                real_part = np.round(element.real, 2)\n",
    "                imag_part = np.round(element.imag, 2)\n",
    "                cleaned_matrix[i, j] = real_part + 1j * imag_part\n",
    "    return cleaned_matrix\n",
    "\n",
    "cleaned_example_matrix = clean_matrix(array)\n",
    "\n",
    "print(cleaned_example_matrix[:4,:4])"
   ]
  }
 ],
 "metadata": {
  "kernelspec": {
   "display_name": "Python 3",
   "language": "python",
   "name": "python3"
  },
  "language_info": {
   "codemirror_mode": {
    "name": "ipython",
    "version": 3
   },
   "file_extension": ".py",
   "mimetype": "text/x-python",
   "name": "python",
   "nbconvert_exporter": "python",
   "pygments_lexer": "ipython3",
   "version": "3.9.5"
  }
 },
 "nbformat": 4,
 "nbformat_minor": 2
}
